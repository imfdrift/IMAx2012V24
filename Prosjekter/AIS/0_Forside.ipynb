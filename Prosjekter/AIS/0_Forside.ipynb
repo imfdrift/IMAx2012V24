{
 "cells": [
  {
   "cell_type": "markdown",
   "id": "634fec63-e158-47dc-871f-94a3885e5029",
   "metadata": {},
   "source": [
    "# Signalbehandling - Elektro\n",
    "__Tiltenkte studieprogramer:__ BIAIS\n",
    "\n",
    "__Innleveringsfrist__: 3.mai kl. 12:00\n",
    "\n",
    "__Innleveringsformat__: en pdf-fil\n",
    "\n",
    "I denne gruppeoppgaven skal vi se på Laplacetransformasjon og anvendelser innenfor signalbehandling. Av spesiell interesse er transferfunksjoner, som er mye brukt i Automatisering for å modellere egenskapene til ulike system. En solid forståelse for transferfunksjoner vil gi et solid fundament for senere emner som Reguleringsteknikk, Elektroteknikk, Signalbehandling og Kybernetikk. I en del av oppgavene skal vi se nærmere på transferfunksojnens anvendelse innen elektroteknikk, og bli kjent med utledning, analyse og bearbeiding av transferfunksjoner.\n",
    "\n",
    "### Oversikt over oppgaver\n",
    "| |Task|Topics|\n",
    "|--:|:--|:--| \n",
    "|1|[En differensialligning](1_Laplacetransformasjon.ipynb) | *Bruk av laplacetransformasjon til å løse en differensialligning* |\n",
    "|2|[Transferfunksjon for RLC-krets](2_Transferfunksjon.ipynb)| *Transferfunksjoner, naturlig frekvens, dempingsrate, stegrespons*| \n",
    "|3|[Frekvensegenskaper RLC-krets](3_Bodeplot.ipynb)| *Frekvensrespons og bode-plot* | \n",
    "|4|[Filtrering av lydsignal](4_Filter.ipynb)| *Ulike typer filter, og påvirkning på lydsignal* |\n",
    "\n",
    "Det vil bli lagt ut noen øvinger som skal hjelpe med forståelse av Laplacetransformasjon. Disse er ikke obligatorisk, men anbefales da de vil hjelpe dere komme i gang med prosjektet.\n",
    "\n",
    "\n",
    "\n",
    "\n"
   ]
  },
  {
   "cell_type": "code",
   "execution_count": null,
   "id": "6d1199c0",
   "metadata": {},
   "outputs": [],
   "source": []
  }
 ],
 "metadata": {
  "kernelspec": {
   "display_name": "Python 3 (ipykernel)",
   "language": "python",
   "name": "python3"
  },
  "language_info": {
   "codemirror_mode": {
    "name": "ipython",
    "version": 3
   },
   "file_extension": ".py",
   "mimetype": "text/x-python",
   "name": "python",
   "nbconvert_exporter": "python",
   "pygments_lexer": "ipython3",
   "version": "3.11.4"
  }
 },
 "nbformat": 4,
 "nbformat_minor": 5
}
