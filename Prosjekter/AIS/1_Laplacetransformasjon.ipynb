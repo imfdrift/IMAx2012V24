{
 "cells": [
  {
   "cell_type": "markdown",
   "id": "54f6c84d",
   "metadata": {},
   "source": [
    "I denne gruppeoppgaven skal vi se på Laplacetransformasjon og anvendelser innenfor signalbehandling.\n",
    "\n",
    "Det vil bli lagt ut noen øvinger som skal hjelpe med forståelse av Laplacetransformasjon. Disse er ikke obligatorisk, men anbefales da de vil hjelpe dere komme i gang med prosjektet."
   ]
  },
  {
   "cell_type": "markdown",
   "id": "9ce1871a",
   "metadata": {},
   "source": [
    "# Oppgave 1: En differensialligning\n",
    "\n",
    "La\n",
    "\n",
    "$$\n",
    "f(t) = \\begin{cases}\n",
    "0 \\quad & t< 0 \\\\\n",
    "2t \\quad & 0\\leq t<1 \\\\\n",
    "3-t \\quad & 1\\leq t < 2 \\\\\n",
    "1 \\quad & 2\\leq t<4 \\\\\n",
    "5-t \\quad & 4\\leq t<5 \\\\\n",
    "0 \\quad & t\\geq 5\n",
    "\\end{cases}\n",
    "$$\n",
    "\n",
    "\n",
    "1. Tegn funksjonen.\n",
    "2. Finn sin Laplacetransformasjon $F(s)$ og tegn den.\n",
    "3. Løs differensialligningen:\n",
    "\n",
    "$$\n",
    "y' + 2y = f(t), \\quad y(0^-)=0\n",
    "$$\n",
    "\n",
    "ved bruk av Laplacetransformasjon, og tegn resultatet."
   ]
  }
 ],
 "metadata": {
  "kernelspec": {
   "display_name": "Python 3 (ipykernel)",
   "language": "python",
   "name": "python3"
  },
  "language_info": {
   "codemirror_mode": {
    "name": "ipython",
    "version": 3
   },
   "file_extension": ".py",
   "mimetype": "text/x-python",
   "name": "python",
   "nbconvert_exporter": "python",
   "pygments_lexer": "ipython3",
   "version": "3.11.5"
  }
 },
 "nbformat": 4,
 "nbformat_minor": 5
}
