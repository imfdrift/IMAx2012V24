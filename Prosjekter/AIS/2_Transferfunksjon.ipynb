{
 "cells": [
  {
   "cell_type": "markdown",
   "id": "664f8763-42f4-4ba3-b299-f5508723966a",
   "metadata": {},
   "source": [
    "# Oppgave 2: Transferfunksjon for RLC-krets"
   ]
  },
  {
   "cell_type": "markdown",
   "id": "8bb7c26a-a579-4bf0-9733-c488f42dedfe",
   "metadata": {},
   "source": [
    "Figuren nedenfor viser en RLC-krets. Kretsen påtrykkes en variabel spenning med spenningskilden $v_0(t)$, og vi skal måle spenningen over kondensatoren $v_C(t)$.\n",
    "![](Figurer/RLC-krets.png)\n",
    "\n",
    "RLC-kretser slik som dette brukes blant annet til å filtrere lydsignal, og separere ut f.eks. bass eller diskant.\n",
    "\n",
    "* Forholdet mellom spenningen $v_0(t)$ fra spenningskilden og kondensatorspenningen $v_C(t)$ kan beskrives med en andreordens differensialligning:\n",
    "\n",
    "$$ v_0(t) = LC \\cdot \\frac{d^2 v_C(t)}{dt^2} + RC\\cdot \\frac{d v_C(t)}{dt} + v_C(t)$$\n",
    "\n",
    "* En svært nyttig egenskap for laplacetransformen er at derivasjon i tidsdomenet tilsvarer multiplikasjon med variabelen $s$ i lapalce-domenet:\n",
    "$$\\mathcal{L}\\left(\\frac{x(t)}{dt} \\right) = s\\cdot X(s), \\ \\ \\ \\text{ der } X(s) = \\mathcal{L}(x(t) $$\n",
    "Konsekvensen av dette er at vi ved hjelp av laplacetransformasjon kan omforme en differensialligning (vanskelig å løse) til en algebraisk ligning (forholdsvis enkel å løse)."
   ]
  },
  {
   "cell_type": "markdown",
   "id": "cc52ed2c-8c05-4fc7-80a2-0daa33944c0a",
   "metadata": {
    "tags": []
   },
   "source": [
    "***\n",
    "### Oppgave a)\n",
    "\n",
    "Vi definerer transferfunksjonen $H(s)$ til RLC-kretsen som $H(s) = \\frac{V_C(s)}{V_0(s)}$. Finn uttrykket for $H(s)$ \n",
    "***\n",
    "<br>\n",
    "Videre i oppgaven går vi ut ifra at komponentene i kretsen har følgende verdier:\n",
    "\n",
    "* $R = 10 \\ \\Omega$\n",
    "* $L = 5 \\ m H$\n",
    "* $C = 50 \\ \\mu F$\n",
    "\n",
    "***\n",
    "### Oppgave b)\n",
    "\n",
    "Transferfunksjoner for RLC-kretser skrives ofte som funksjon av *dempingsrate* $\\zeta$, og *naturlig frekvens* $\\omega_0$ som følger:\n",
    "\n",
    "$$ H(s) = \\frac{\\omega_0^2}{s^2 + 2\\zeta \\omega_0 s + \\omega_0^2}$$\n",
    "\n",
    "hva blir dempingsraten $\\zeta$ og den naturlige frekvensen $\\omega_0$ til kretsen? Er systemet underdempet, kritisk dempet eller overdempet?\n",
    "***"
   ]
  },
  {
   "cell_type": "markdown",
   "id": "4ae493c6-26b2-488a-bfbb-7a620ef638d5",
   "metadata": {},
   "source": [
    "## Transferfunksjoner i Python\n",
    "\n",
    "`scipy`-modulen til Python inneholder en egen funksjon [`scipy.signal.TransferFunction(num, den)`](https://docs.scipy.org/doc/scipy/reference/generated/scipy.signal.TransferFunction.html#scipy.signal.TransferFunction) for å lage egne transferfunksjon-objekter vi kan bruke til å *simulere* elektriske kretser. For at denne skal kunne etterligne riktig transferfunksjon, må vi gi den to arrays med koeffisientene til både telleren og nevneren i transferfunksjonen $H(s)$.\n",
    "\n",
    "#### Eksempel:\n",
    "\n",
    "* Transferfunksjon:\n",
    "$$H(s) = \\frac{s + 2}{s^2 + 6s + 9} = \\frac{\\mathbf{1}\\cdot s + \\mathbf{2}}{\\mathbf{1} \\cdot s^2 + \\mathbf{6}\\cdot s + \\mathbf{9} } $$\n",
    "\n",
    "* Konstruksjon av transferfunksjon i Python:\n",
    "```Python\n",
    "import scipy.signal as sig\n",
    "numerator = [1, 2]\n",
    "denominator = [1, 6, 9]\n",
    "system = sig.TransferFunction(numerator, denominator)\n",
    "```"
   ]
  },
  {
   "cell_type": "markdown",
   "id": "62ca821a-3356-465c-8185-27198d6f5952",
   "metadata": {},
   "source": [
    "***\n",
    "### Oppgave c)\n",
    "Bruk funksjonen [`step`](https://docs.scipy.org/doc/scipy/reference/generated/scipy.signal.step.html) i modulen `scipy.signal` til å regne ut sprangresponsen til RLC-kretsen, og bruk matplotlib til å tegne en graf av den naturlige responsen. Stemmer formen på sprangresponsen med dempingsraten du fant i deloppgave ***b)***?\n",
    "***"
   ]
  },
  {
   "cell_type": "code",
   "execution_count": null,
   "id": "afbffe6c-a7df-4428-be0e-21a40f7f64fd",
   "metadata": {
    "tags": []
   },
   "outputs": [],
   "source": []
  }
 ],
 "metadata": {
  "kernelspec": {
   "display_name": "Python 3",
   "language": "python",
   "name": "python3"
  },
  "language_info": {
   "codemirror_mode": {
    "name": "ipython",
    "version": 3
   },
   "file_extension": ".py",
   "mimetype": "text/x-python",
   "name": "python",
   "nbconvert_exporter": "python",
   "pygments_lexer": "ipython3",
   "version": "3.8.8"
  }
 },
 "nbformat": 4,
 "nbformat_minor": 5
}
