{
 "cells": [
  {
   "cell_type": "markdown",
   "id": "6b5e8853-6a73-4d8e-b12a-172c8336a0d6",
   "metadata": {},
   "source": [
    "# Oppgave 3: Frekvensegenskaper RLC-krets"
   ]
  },
  {
   "cell_type": "markdown",
   "id": "8e4e1923-ee9d-454f-851d-ef439587f587",
   "metadata": {},
   "source": [
    "Vi fortsetter med RLC-kretsen fra oppgave 1. Noe av det mest nyttige med transferfunksjoner $H(s)$ er at vi kan bruke de til å forutsi hvordan en påtrykt sinusformet spenning $v_0(t) = A\\cdot \\sin(\\omega \\cdot t)$ vil påvirkes av kretsen. \n",
    "\n",
    "Vinkelfrekvensen $\\omega$ til sinusspenningen beskrevet ovenfor er representert i ett punkt $s=j\\omega$ i s-planet, og ved å regne ut $H(s)\\big|_{s=j\\omega}$ kan vi identifisere hvordan kretsen vil påvirke en sinusformet påtrykt spenning. Dette gjøres med formelen nedenfor:\n",
    "\n",
    "$$v_C(t) = \\left|H(j\\omega)\\right| \\cdot \\sin\\left(\\omega \\cdot t + \\angle H(j\\omega) \\right) $$\n",
    "\n",
    "Med andre ord betyr dette at sinusspenninger kun vil endre seg i amplitude og fase når det måles over ulike kretselement, men fortsatt være gjenkjennelige sinusbølger. Dette er fordi en sinusbølge kan er tett knyttet til egenfunksjonen $f(t) = e^{s\\cdot t}$ til ordinære differensialligninger, ettersom: $\\cos(\\omega \\cdot t) = \\mathcal{R}e\\left(e^{j\\omega\\cdot t}\\right)$ og $\\sin(\\omega \\cdot t) = \\mathcal{I}m\\left(e^{j\\omega\\cdot t}\\right)$. \n",
    "\n",
    "I denne oppgaven skal vi bruke Python til å kjøre noen simuleringer av RLC-retsen med sinusbølger $v_0(t) = A\\cdot \\sin(\\omega \\cdot t)$ som påtrykt spenningssignal, og analysere den kondensatorspenningen $v_C(t)$ som oppstår over tid. En sentral komponent i denne oppgaven vil være funksjonen [`scipy.signal.lsim`](https://docs.scipy.org/doc/scipy/reference/generated/scipy.signal.lsim.html#scipy.signal.lsim) som vi kan bruke til å simulere RLC-kretsens oppførsel med hvilken som helst funksjon for påtrykt spenning $v_0(t)$.\n",
    "\n",
    "Eksempel på bruk:\n",
    "```Python\n",
    "import numpy as np\n",
    "import scipy.signal as sig\n",
    "\n",
    "t = np.linspace(0, 1, 501) # Tidsvindu for simulering\n",
    "v_inn = np.sin(50*t)       # Påtrykt spenning v_inn(t)\n",
    "\n",
    "system = sig.TransferFunction([1], [1, 2])    # Eksempel på transferfunksjon\n",
    "_, v_ut, _ = sig.lsim(system, U=v_inn, T=t)   # Beregn utgangsspenningen 'v_ut' gitt påtrykt spenning 'v_inn' for kretsen representert med 'system'\n",
    "```"
   ]
  },
  {
   "cell_type": "markdown",
   "id": "9dec059a-1f0e-4587-b265-8f2572e2cb05",
   "metadata": {},
   "source": [
    "***\n",
    "### Oppgave a)\n",
    "\n",
    "* Bruk python til å simulere 0.02 sekund hvor RLC-kretsen påtrykkes sinusspenningen $v_0(t) = \\sin(1000\\cdot t)$, og vis kurven til både $v_0(t)$ og $v_C(t)$ i en figur. <br>\n",
    "*NB! Legg merke til at det tar litt tid for $v_C(t)$ å stabilisere seg til en jevn sinusbølge. Hvorfor skjer det?*\n",
    "* Zoom inn på de siste to bølgelengdene i figuren (ved å bruke f.eks. `plt.xlim`), og mål endringen i amplitude og tidsforsinkelsen ved å lese av figuren. Regn om tidsforsinkelse til faseforskyvning.\n",
    "    * *PS: du kan enytte cell-magic kommandoen `%matplotlib ipympl` før plotting for å slå på interaktive figurer. Da kan du brenytte GUI-verktøy til å zoome og måle verdier på figuren.*\n",
    "    * *PPS: For å måle tidsforsinkelse kan du regne ut differansen mellom nullkrysningstidspunkt for begge kurvene.*"
   ]
  },
  {
   "cell_type": "code",
   "execution_count": null,
   "id": "44cbd71e-42bb-4454-a9d6-e6bbc2c61d7f",
   "metadata": {
    "tags": []
   },
   "outputs": [],
   "source": []
  },
  {
   "cell_type": "markdown",
   "id": "476031d4-f3aa-435e-a635-383dc2c29a69",
   "metadata": {},
   "source": [
    "***\n",
    "### Oppgave b)\n",
    "* Gjenta målingene i oppgave ***a)*** for vinkelfrekvenser $\\omega = 2000,\\ 4000\\ \\&\\ 8000$ rad/s."
   ]
  },
  {
   "cell_type": "code",
   "execution_count": null,
   "id": "feaff83c-6e47-4ac9-8830-3b31a58584a8",
   "metadata": {},
   "outputs": [],
   "source": []
  },
  {
   "cell_type": "markdown",
   "id": "05d52c4e-6b54-43d4-8e3a-4c5d3513970c",
   "metadata": {},
   "source": [
    "***\n",
    "### Oppgave c)\n",
    "* Bruk python til å regne ut $\\left|H(j\\omega)\\right|$ og $\\angle H(j\\omega) $ for $\\omega \\in \\{1000, 2000, 4000, 8000\\}$ rad/s ved hjelp av formeluttrykket til transferfunksjonen $H(s)$.\n",
    "* Sammenlign de utregnede verdiene med det du målte i deloppgave **a)** og **b)**."
   ]
  },
  {
   "cell_type": "code",
   "execution_count": null,
   "id": "75c359b5-25fb-407b-a16d-b2fd743e0764",
   "metadata": {},
   "outputs": [],
   "source": []
  },
  {
   "cell_type": "markdown",
   "id": "e86f6dfb-a2e8-49d3-924b-571643748ff7",
   "metadata": {},
   "source": [
    "***\n",
    "### Oppgave d)\n",
    "* Bruk Python sin funksjon [`scipy.signal.bode()`](https://docs.scipy.org/doc/scipy/reference/generated/scipy.signal.bode.html) til å lage et bode-plot for den seriekoblede RLC-kretsen. Dataen bør visualiseres med funksjonen [`semilogx`](https://matplotlib.org/stable/api/_as_gen/matplotlib.pyplot.semilogx.html) fra `matplotlib.pyplot` for å få korrekt logaritmisk skala langs fekvensaksen.\n",
    "* Les av fase og magnitude ($\\left|H(j\\omega)\\right|$) for frekvensene $\\omega \\in \\{1000, 2000, 4000, 8000\\}$ i bode-plottet, og sammenlign med resultatet fra deloppgave.\n",
    "    * *NB! Husk at bode-plot viser magnitude i decibel (dB). Formelen for utregning av decibel er: $H_{dB} = 20\\cdot \\log_{10}\\left(H\\right)$*"
   ]
  },
  {
   "cell_type": "code",
   "execution_count": null,
   "id": "d143de92-871a-4f4d-b72c-d20e1373f627",
   "metadata": {},
   "outputs": [],
   "source": []
  }
 ],
 "metadata": {
  "kernelspec": {
   "display_name": "Python 3",
   "language": "python",
   "name": "python3"
  },
  "language_info": {
   "codemirror_mode": {
    "name": "ipython",
    "version": 3
   },
   "file_extension": ".py",
   "mimetype": "text/x-python",
   "name": "python",
   "nbconvert_exporter": "python",
   "pygments_lexer": "ipython3",
   "version": "3.8.8"
  }
 },
 "nbformat": 4,
 "nbformat_minor": 5
}
