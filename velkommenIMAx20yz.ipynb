{
 "cells": [
  {
   "cell_type": "markdown",
   "id": "3256804e-1b37-4de0-9bb3-6c953ce0dacf",
   "metadata": {},
   "source": [
    "# Velkommen til IMAx20yz\n",
    "\n",
    "Du er nå inne i **Jupyter-huben** til emnet IMAx20yz - en server der Python, Pythonpakker og Jupyter-notatbok-programvare er installert. \n",
    "\n",
    "Til venstre vil det hver uke dukke opp en mappe med filer for uka. Disse filene er såkalte **Jupyter notatbøker** - en digital notatbok der vi blander Python-kode, resultatene vi får fra å kjøre koden, og helt vanlig tekst. \n",
    "\n",
    "Du kan bruke og endre filene vi har laget til deg - dette er din kopi av våre filer. Du kan også lage nye mapper og filer så mye du vil. Hvis du logger ut (eller lukker nettleservinduet) så forsvinner selvfølgelig ikke filene dine. \n",
    "\n",
    "Hvis du har klusset det til i en av filene som *vi* har laget, og har lyst til å se hva filen opprinnelig inneholdt, så er det enklest at du endrer navn på filen (der du har klusset til ting) og logger ut ved å lukke vinduet i nettleseren, da vil vår originale fil lastes inn på nytt når du åpner huben og logger inn på nytt. Istedenfor å endre navn på fila (som var klusset til) så kan du også slette den og logge ut - og da vil vår originale fil lastes inn på nytt når du åpner huben igjen."
   ]
  },
  {
   "cell_type": "markdown",
   "id": "fea2b528-d95c-49d5-804a-29045659571a",
   "metadata": {},
   "source": [
    "## Et lite eksempel"
   ]
  },
  {
   "cell_type": "markdown",
   "id": "102cd4c4-5e24-44bd-933d-0766c6239cbf",
   "metadata": {},
   "source": [
    "Teksten du leser her er i såkalt markdown format. Dobbelklikk på denne teksten og du kommer i redigeringsmodus. Du har nå lov til å redigere teksten i denne *cellen*. Se øverst i verktøylinja at det står \"Markdown\". Du kan jo for eksempel skrive navnet ditt her: Stine\n",
    "\n",
    "**For å \"kjøre\" cellen trykker du på play-knappen i verktøylinja, eller shift-enter**."
   ]
  },
  {
   "cell_type": "markdown",
   "id": "1a7225bc-424f-4988-ad33-4d1608ab39e0",
   "metadata": {},
   "source": [
    "Under ser du en grå boks med kode i. Klikk på denne boksen for å komme i redigeringsmodus. Nå står det \"Code\" øverst i verktøy-linja. Når denne cellen med kode \"kjøres\" (play-knappen eller shift-enter) så kjører du faktisk python-kode. Den første cellen med python-kode i våre notatbøker er alltid import av pakker med funksjoner som vi vil trenge. Du må *alltid* kjøre denne cellen før du går videre. "
   ]
  },
  {
   "cell_type": "code",
   "execution_count": null,
   "id": "e002f763-59c8-4063-8644-6b613ad656e9",
   "metadata": {},
   "outputs": [],
   "source": [
    "import numpy as np  # laste inn en pakken numpy for å gjøre numeriske beregninger"
   ]
  },
  {
   "cell_type": "markdown",
   "id": "ab84f0a0-2a2e-48c6-8fdf-d2ad839ee145",
   "metadata": {},
   "source": [
    "I den neste cellen med kode har vi laget en vektor, eller 1DArray som det heter i numpy. Vi har kalt vektoren for x. Vi har også skrevet en kode-linje for å regne ut cosinus av tallene i vektoren. Prøv å kjøre koden i cellen!\n",
    "\n",
    "(Husk at du *må* ha importert pakken numpy (altså, kjørt cellen over) for at koden under skal fungere)"
   ]
  },
  {
   "cell_type": "code",
   "execution_count": null,
   "id": "8fe81fc7-11d0-4a0e-ab0f-df3af6a7162f",
   "metadata": {},
   "outputs": [],
   "source": [
    "x = np.array([8.0, 1.3, 2.5, 4.2, 28.0])\n",
    "\n",
    "np.cos(x)"
   ]
  }
 ],
 "metadata": {
  "kernelspec": {
   "display_name": "Python 3 (ipykernel)",
   "language": "python",
   "name": "python3"
  },
  "language_info": {
   "codemirror_mode": {
    "name": "ipython",
    "version": 3
   },
   "file_extension": ".py",
   "mimetype": "text/x-python",
   "name": "python",
   "nbconvert_exporter": "python",
   "pygments_lexer": "ipython3",
   "version": "3.11.4"
  }
 },
 "nbformat": 4,
 "nbformat_minor": 5
}
