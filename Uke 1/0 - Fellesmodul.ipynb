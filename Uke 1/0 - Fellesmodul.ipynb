{
 "cells": [
  {
   "cell_type": "markdown",
   "id": "1c3d22f2",
   "metadata": {},
   "source": [
    "# Introduksjon til Fellesmodulen i Matematikk 2\n",
    "\n",
    "## Fellesmodul - funksjoner av flere variabler\n",
    "\n",
    "I matematikk 1 så vi mange eksempler på funksjoner. Vi kan grovt dele de inn i følgende klasser:\n",
    "\n",
    "1. **Ordinære endimensjonale funksjoner:** Dette er funksjoner $f: \\mathbb{R}\\rightarrow\\mathbb{R}$ som for eksempel $f(x) = \\sin(x)$ eller $f(x) = x^2 + e^{-2x}$.\n",
    "\n",
    "2. **Lineære transformasjoner:** Dette er funksjoner $T:\\mathbb{R}^m{\\rightarrow}\\mathbb{R}^n$ som vi representerer med matriser. Vi hadde hovedfokus på spesialtilfellet $T:\\mathbb{R }^2{\\rightarrow}\\mathbb{R }^2$ som kan representeres med 2x2 matriser.\n",
    "    \n",
    "3. **Differensialligninger:** Vi har tidligere sett på systemer av ordinære differensialligninger. Løsninger av dette kan representeres som funksjoner $x:\\mathbb{R}\\rightarrow\\mathbb{R}^n$.\n",
    "\n",
    "Fysiske fenomener kan ofte beskrives med en funksjon $f:\\mathbb{R}^m{\\rightarrow}\\mathbb{R}^n$. Slike funksjoner er kalt _funksjoner av flere variabler_ eller _flervariable funksjoner_. Disse er vanligvis ikke lineære, og derfor må vi studere en større gruppe funksjoner enn i punkt 2. ovenfor. Vi kommer til å se flere programrelevante eksempler på flervariable funksjoner i jupyternotatboken \"1_3 - Eksempler\".\n",
    "\n",
    "Veldig ofte stammer flervariable funksjoner fra løsninger av differensialligninger som involverer flere uavhengige variabler. Disse differensialligningene er ofte av stor fysisk interesse og kalles for *partielle differensialligninger* (i motsetning til ordinære differensialligninger som har kun en uavhengig variabel).\n",
    "Utenfor fysikkens verden finner vi også flere anvendelser av funksjoner av flere variabler innenfor databehandling, statistikk, osv.\n",
    "  \n",
    "I matematikk 2 kommer vi kun til å ta for oss flervariable funksjoner som har $n = 1$, altså $f:\\mathbb{R}^m\\to \\mathbb{R}$. Videre i matematikk 3 vil vi utvide arbeidet vårt til funksjoner $f:\\mathbb{R}^m\\rightarrow\\mathbb{R}^n$. I tillegg kommer vi da til å lære å integrere flervariable funksjoner, noe vi ikke tar for oss i matematikk 2."
   ]
  },
  {
   "cell_type": "markdown",
   "id": "5032a0db",
   "metadata": {},
   "source": [
    "## Innhold de seks første ukene\n",
    "\n",
    "Innholdet de seks neste ukene blir:\n",
    "\n",
    "1. Funksjoner av flere variabler og visualisering av de\n",
    "2. Derivasjon og partiell derivasjon\n",
    "3. Kritiske punkter og optimering\n",
    "4. Taylors teorem for tilnærming med polynomer\n",
    "5. Partielle differensialligninger 1 - Innføring og eksempler\n",
    "6. Partielle differensialligninger 2 - Numeriske metoder\n",
    "\n",
    "I uke 5 og 6 av kurset blir opplegget annerledes fra de fire første ukene. Vi går over til prosjektarbeid, og det blir da individuelt opplegg rettet mot de forskjellige studieprogrammene. Spesielt opplegget for A-varianten, det vil si de som tar IMAx2012, blir forskjellig siden de vil ha mindre partielle differensialligninger. Innholdet som legges ut på jupyterhuben i uke 5 og 6 kan likevel være av interesse for alle."
   ]
  }
 ],
 "metadata": {
  "kernelspec": {
   "display_name": "Python 3 (ipykernel)",
   "language": "python",
   "name": "python3"
  },
  "language_info": {
   "codemirror_mode": {
    "name": "ipython",
    "version": 3
   },
   "file_extension": ".py",
   "mimetype": "text/x-python",
   "name": "python",
   "nbconvert_exporter": "python",
   "pygments_lexer": "ipython3",
   "version": "3.11.4"
  }
 },
 "nbformat": 4,
 "nbformat_minor": 5
}
