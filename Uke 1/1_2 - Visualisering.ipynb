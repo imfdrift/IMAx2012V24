{
 "cells": [
  {
   "cell_type": "markdown",
   "id": "3d2848f2",
   "metadata": {},
   "source": [
    "# Visualisering\n",
    "\n",
    "En funksjon $\\mathbb{R } \\rightarrow\\mathbb{R } $ kan lett visualiseres\n",
    "ved hjelp av grafen sin. Hvorvidt det lar seg gjøre å visualisere\n",
    "funksjoner $\\mathbb{R }^m\\rightarrow\\mathbb{R }^n$ er veldig avhengig av\n",
    "dimensjonene $n$ og $m$. Det er ikke forbausende, da det er bortimot umulig\n",
    "å visualisere vektorer med dimensjon 4 eller større. \n",
    "\n",
    "I dette notatet kommer vi til å se på hvordan visualiseringe av følgende funksjoner:\n",
    "1. Kurveplott for $f:\\mathbb{R } \\rightarrow\\mathbb{R }^2$ og $f:\\mathbb{R } \\rightarrow\\mathbb{R }^3$\n",
    "2. Visualiseringer for skalare funksjoner av to variabler $f:\\mathbb{R }^2\\rightarrow\\mathbb{R }$\n",
    "    - Overflateplott\n",
    "    - Nivåkurveplott\n",
    "    - Varmeplott\n",
    "3. [ikke pensum] $f:\\mathbb{R }^3\\rightarrow\\mathbb{R }$\n",
    "4. [ikke pensum] $f:\\mathbb{R }^m \\times \\mathbb{R} \\rightarrow\\mathbb{R }^n$\n",
    "    - Strømningsplott\n",
    "    - Bruk av animasjoner\n",
    "\n",
    "Oppgavene i uke 1 handler om punkt 2, som er hovedfokus i dette emnet."
   ]
  },
  {
   "cell_type": "markdown",
   "id": "6f392085",
   "metadata": {},
   "source": [
    "## Kurveplott\n",
    "\n",
    "Det er vanelig å tenke på en funksjon $f$ som går fra $\\mathbb{R}$ til $\\mathbb{R}^2$ som partikkel \n",
    "\n",
    "$$f(t)=(x (t), y (t))$$\n",
    "\n",
    "som beveger seg i planet. Tilsvarende blir $g:\\mathbb{R}\\to \\mathbb{R}^3$ ofte sett på som en partikkel \n",
    "\n",
    "$$g(t)=(x (t), y (t), z(t))$$\n",
    "\n",
    "som beveger seg i rommet. La oss gå igjenom noen eksempler på hvordan vi kan visualisere banen, eller kurven, som partikelen følger. Som altids, må vi importere et par pakker for å få dette til å skje:"
   ]
  },
  {
   "cell_type": "code",
   "execution_count": null,
   "id": "3bc4512a",
   "metadata": {},
   "outputs": [],
   "source": [
    "import matplotlib.pyplot as plt # Pakke brukt til plotting\n",
    "import numpy as np # Pakke brukt til numeriske beregninger"
   ]
  },
  {
   "cell_type": "markdown",
   "id": "af9abb7a",
   "metadata": {},
   "source": [
    "### Kurveplott i planet\n",
    "La oss si at vi ønsker å plotte banen til kurven \n",
    "\n",
    "$$f(t)=\\left(\\frac{t + t^3}{1 + t^4}, \\frac{t - t^3}{1 + t^4}\\right).$$\n",
    "\n",
    "Legg merke til at når $t\\to \\infty$ kommer denne kurven til å nærme seg origo, siden \n",
    "\n",
    "$$\\lim_{t\\to \\infty}\\frac{t + t^3}{1 + t^4}=\\lim_{t\\to \\infty}\\frac{t - t^3}{1 + t^4}=0.$$\n",
    "\n",
    "Siden datamaskiner ikke håndterer konseptet uendelig, kan vi kun plotte kurven på endelige intervaller. Om vi velger å plotte kurven begrenset til intervallet $[-12, 12]$, kan vi bruke følgende kode:"
   ]
  },
  {
   "cell_type": "code",
   "execution_count": null,
   "id": "d90369f5",
   "metadata": {},
   "outputs": [],
   "source": [
    "# Lager 10'000 punkter mellom -12 og 12\n",
    "t = np.linspace(-12, 12, 10000)\n",
    "\n",
    "# Lager vektoren x(t)\n",
    "x = (t + t**3)/(1 + t**4)\n",
    "# Lager vektoren y(t)\n",
    "y = (t - t**3)/(1 + t**4)\n",
    "\n",
    "# Plotter banen til kurven i planet\n",
    "plt.plot(x, y)"
   ]
  },
  {
   "cell_type": "markdown",
   "id": "3e6f2e4a",
   "metadata": {},
   "source": [
    "Legg merke til at kurveplott ikke gir oss informasjon om hvor partikelen befinner seg ved forskjellige tispunkt. Det vil si at vi ikke vet hvor $f(1)$ er på kurven uten å se på funksjonsuttrykket. Derimot gir kurveplott oss en nyttig visualisering om hvordan partikelen beveger seg."
   ]
  },
  {
   "cell_type": "markdown",
   "id": "5aa347fa",
   "metadata": {},
   "source": [
    "### Kurveplott i rommet\n",
    "På en lignende måte kan vi visualisere en kurve i rommet. I koden under plotter vi kurven \n",
    "\n",
    "$$g(t)=\\left(\\left(\\frac{t^2}{4 \\pi^2  } + 1\\right)\\sin(t),\\left(\\frac{t^2}{4 \\pi^2} + 1\\right)\\cos(t),\\frac{t}{2\\pi} \\right)$$\n",
    "\n",
    "for verdier i $[-4\\pi, 4\\pi]$."
   ]
  },
  {
   "cell_type": "code",
   "execution_count": null,
   "id": "0052e4e5",
   "metadata": {},
   "outputs": [],
   "source": [
    "# Bestem størelsen til plottet og at det skal være i 3D\n",
    "fig, ax = plt.subplots(figsize=(10, 20), subplot_kw={\"projection\": \"3d\"})\n",
    "\n",
    "# Lag 100 punkter mellom -4pi og 4pi\n",
    "t = np.linspace(-4 * np.pi, 4 * np.pi, 100)\n",
    "\n",
    "# Lag vektoren x(t)\n",
    "x = (t**2/(4 * np.pi**2) + 1) * np.sin(t)\n",
    "# Lag vektoren y(t)\n",
    "y = (t**2/(4 * np.pi**2) + 1) * np.cos(t)\n",
    "# Lag vektoren z(t)\n",
    "z = t/(2 * np.pi)\n",
    "\n",
    "# Lag selve kurveplottet\n",
    "ax.plot(x, y, z)"
   ]
  },
  {
   "cell_type": "markdown",
   "id": "b5792369",
   "metadata": {},
   "source": [
    "Som vi ser, kommer partikelen til å bevege seg langs en noe merksnodig korkskrue form. Legg også merke til den første linjen med kode i cellen under. Her gir vi beskjed om at vi ønsker å plotte i 3D."
   ]
  },
  {
   "cell_type": "markdown",
   "id": "0b0930cb",
   "metadata": {},
   "source": [
    "### Oppgave:\n",
    "\n",
    "Bruk kodefeltet under til å tegne kurven \n",
    "\n",
    "$$f(t)=\\left(\\cos(t), \\sin(t)\\right)$$\n",
    "\n",
    "for verdiene $[0,\\pi]$."
   ]
  },
  {
   "cell_type": "code",
   "execution_count": null,
   "id": "3f3e4839",
   "metadata": {},
   "outputs": [],
   "source": []
  },
  {
   "cell_type": "markdown",
   "id": "27432939",
   "metadata": {},
   "source": [
    "## Visualiseringer for skalare funksjoner av to variabler\n",
    "\n",
    "Her finnes det mange muligheter for visualiseringer. Den mest direkte analogen til grafen av en funksjon er såkalte overflateplott, men vi skal også lære om nivåcurveplott og varmeplott.\n",
    "\n",
    "### Overflateplott\n",
    "La oss si at vi ønsker å visualisere funksjonen\n",
    "\n",
    "$$f(x,y)=(1 - x/2 + x^5 + y^3) \\exp(-x^2 - y^2).$$\n",
    "\n",
    "Igjen må vi velge hvor vi ønsker å tegne grafen. I koden under har vi valgt å tegne den på $[-3,3]\\times [-4, 4]$. Det vil si at vi tegner overflaten for alle $x$ verdier i $[-3,3]$ og $y$ verdier i $[-4, 4]$."
   ]
  },
  {
   "cell_type": "code",
   "execution_count": null,
   "id": "b4a768f2",
   "metadata": {},
   "outputs": [],
   "source": [
    "# Bestem størelsen til plottet og at det skal være i 3D\n",
    "fig, ax2 = plt.subplots(figsize=(15, 15), subplot_kw={\"projection\": \"3d\"})\n",
    "\n",
    "# Lag et \"rutenett\" med 256x256 punkter i rektangelet [-3, 3] x [-4, 4]\n",
    "x, y = np.meshgrid(np.linspace(-3, 3, 256), np.linspace(-4, 4, 256))\n",
    "\n",
    "# Lag funksjonsverdiene for alle verdier i rutenettet\n",
    "z = (1 - x/2 + x**5 + y**3) * np.exp(-x**2 - y**2)\n",
    "\n",
    "# Plott figuren\n",
    "ax2.plot_surface(x, y, z)"
   ]
  },
  {
   "cell_type": "markdown",
   "id": "b1386022",
   "metadata": {},
   "source": [
    "Om vi ønsker, kan vi lese av punktverdier fra denne type plott. Da velger vi et punkt i planet på bunnen og trekker en linje rett oppover til det treffer overflaten. Vi kan for eksempel se at i $(3,2)$ er funksjonen tilnærmet lik $0$, og at det ser ut som at den største verdien er circa $1$ og ligger i punktet $(0,0)$.\n",
    "\n",
    "Vi kan også pynte litt på grafen om vi ønsker. For eksempel ved å legge til farger som gjør overflateplottet lettere å lese."
   ]
  },
  {
   "cell_type": "code",
   "execution_count": null,
   "id": "cd34b3cf",
   "metadata": {},
   "outputs": [],
   "source": [
    "# importer farger\n",
    "from matplotlib import cm\n",
    "\n",
    "# samme kode som over\n",
    "fig, ax2 = plt.subplots(figsize=(15, 15), subplot_kw={\"projection\": \"3d\"})\n",
    "\n",
    "x, y = np.meshgrid(np.linspace(-3, 3, 256), np.linspace(-4, 4, 256))\n",
    "\n",
    "z = (1 - x/2 + x**5 + y**3) * np.exp(-x**2 - y**2)\n",
    "\n",
    "# Lag plottet. \n",
    "# - cmap=cm.Blues legger til blå gradient\n",
    "# - vmin=z.min()*2 gjør at de lyseste blåfargene ikke blir med i gradienten\n",
    "ax2.plot_surface(x, y, z, vmin=2 * z.min() , cmap=cm.Blues)"
   ]
  },
  {
   "cell_type": "markdown",
   "id": "5ec30cd8",
   "metadata": {},
   "source": [
    "### Nivåkurveplott"
   ]
  },
  {
   "cell_type": "markdown",
   "id": "26529b76",
   "metadata": {},
   "source": [
    "Et alternativ er et såkalt _nivåkurveplott_ (eng. contour plot). _Nivåkurver_ er en kurve som består av alle $(x,y)$ verdier hvor $f$ er konstant. For eksempel er nivåkurven til funksjonen \n",
    "\n",
    "$$g(x,y)=x^2+y^2$$ \n",
    "\n",
    "for verdien $1$ kurven som består av alle verdier $(x,y)$ slik at $x^2+y^2=1$. Vi vet fra før at ligningen $x^2+y^2=1$ veskriver en sirkel sentrert i origo med radius 1. Om vi ønsker kan vi lage et plott som viser flere nivåkurver til denne funksjonen. Igjen må vi gjøre et utsnitt, og denne gangen har vi valgt $[-1, 3]\\times [-2, 2]$ som rektangelet vi ønsker å se på."
   ]
  },
  {
   "cell_type": "code",
   "execution_count": null,
   "id": "56913e15",
   "metadata": {},
   "outputs": [],
   "source": [
    "# Lag et \"rutenett\" med alle 256x256 punkter på rektangelet [-1, 3] x [-2, 2]\n",
    "x, y = np.meshgrid(np.linspace(-1, 3, 256), np.linspace(-2, 2, 256))\n",
    "\n",
    "# Lag z verdiene for dette rutenettet\n",
    "z = x**2 + y**2\n",
    "\n",
    "# Velg for hvilkene verdier vi ønsker å se på nivåkurvene til. I dette tilfellet har vi valgt verdiene 0.5, 1, og 2\n",
    "levels = np.array([0.5, 1, 2])\n",
    "\n",
    "# Lag nivåkurveplottet for de gitte verdiene\n",
    "plt.contour(x, y, z, levels = levels)"
   ]
  },
  {
   "cell_type": "markdown",
   "id": "a1dc63e1",
   "metadata": {},
   "source": [
    "En nyttig analogi er å tenke på høydelinjer på et kart. Om vi går tilbake overflateplottet til funksjonen \n",
    "\n",
    "$$f(x,y)=(1 - x/2 + x^5 + y^3) \\exp(-x^2 - y^2)$$\n",
    "\n",
    "ser vi at dette ser litt ut som et fjell. Som dere kanskje vet, om vi ser på turkart er ofte høgdemeterene makert. Dette er for at vi kan få informasjon om terenget, og er ofte kalt terengkart. Et eksempel kan dere finne [her](https://www.google.no/maps/place/Galdh%C3%B8piggen/@61.6365146,8.2918183,14z/data=!3m1!4b1!4m6!3m5!1s0x4615061e3b8c21cd:0xeb7f8515a8aac69a!8m2!3d61.6364962!4d8.3124178!16s%2Fg%2F1pzszhgth!5m1!1e4?entry=ttu). \n",
    "Om funksjonen vår $f$ representerer høydemeter over havet, kan vi lage et terengkart med følgende kode."
   ]
  },
  {
   "cell_type": "code",
   "execution_count": null,
   "id": "585c14a7",
   "metadata": {},
   "outputs": [],
   "source": [
    "# Sette størelsen på plottet til 12x10\n",
    "fig, ax1 = plt.subplots(figsize=(12, 10))\n",
    "\n",
    "# Lag et \"rutenett\" med alle 256x256 punkter på rektangelet [-3, 3] x [-4, 4]\n",
    "x, y = np.meshgrid(np.linspace(-3, 3, 256), np.linspace(-4, 4, 256))\n",
    "\n",
    "# Lag funksjonsverdiene for alle verdier i rutenettet\n",
    "z = (1 - x/2 + x**5 + y**3) * np.exp(-x**2 - y**2)\n",
    "\n",
    "# Lag 7 nivåer likt fordelt mellom minimumsverdien og maksimumsverdien for funksjonen f på rektangelet [-3, 3] x [-4, 4]\n",
    "levels = np.linspace(np.min(z), np.max(z), 7)\n",
    "\n",
    "# Lag nivåkurveplottet\n",
    "ax1.contour(x, y, z, levels=levels)"
   ]
  },
  {
   "cell_type": "markdown",
   "id": "f19310c4",
   "metadata": {},
   "source": [
    "### Varmeplott\n",
    "Et svært lignende plott til nivåkurveplottet er et såkalt varmeplott. Her prøver vi å plotte alle nivåkurvene samtidig ved å bruke en fargegradient. Om vi bestemmer oss for en farge og følger fargen får vi en nivåkurven.\n",
    "La oss se hvordan vi kan lage et varmeplott for funksjonen \n",
    "$$f(x,y)=(1 - x/2 + x^5 + y^3) \\exp(-x^2 - y^2).$$"
   ]
  },
  {
   "cell_type": "code",
   "execution_count": null,
   "id": "891b7104",
   "metadata": {},
   "outputs": [],
   "source": [
    "# Sette størelsen på plottet til 15x10\n",
    "fig, ax1 = plt.subplots(figsize=(15,10))\n",
    "\n",
    "# Lag et \"rutenett\" med alle 256x256 punkter på rektangelet [-3, 3] x [-4, 4]\n",
    "x, y = np.meshgrid(np.linspace(-3, 3, 256), np.linspace(-4, 4, 256))\n",
    "\n",
    "# Lag funksjonsverdiene for alle verdier i rutenettet\n",
    "z = (1 - x/2 + x**5 + y**3) * np.exp(-x**2 - y**2)\n",
    "\n",
    "# Lag fargegradienten til hver z verdi\n",
    "# - Her er cmap='RdBu' fargegradienten Read-Blue som sier at vi skal gi fargen rød til lave verdier og blå til høye\n",
    "pos = ax1.imshow(z, cmap='RdBu')\n",
    "\n",
    "# Plot fargegradienten\n",
    "fig.colorbar(pos, ax=ax1)"
   ]
  },
  {
   "cell_type": "markdown",
   "id": "7b0c745b",
   "metadata": {},
   "source": [
    "Grunnen til at vi kaller dette et varmeplott er at om vi har at funksjonen $f$ er målt temperatur i for eksempel en oppvarmet stålplate kan vi se hvor var de ulike områdene er ved å skjekke fargen."
   ]
  },
  {
   "cell_type": "markdown",
   "id": "ac11e01d",
   "metadata": {},
   "source": [
    "### Oppgave:\n",
    "Lag et overflateplott og et varmeplott til funksjonen \n",
    "\n",
    "$$g(x,y)=x^2+y^2.$$"
   ]
  },
  {
   "cell_type": "code",
   "execution_count": null,
   "id": "4e689d99",
   "metadata": {},
   "outputs": [],
   "source": []
  },
  {
   "cell_type": "markdown",
   "id": "757d8bfa",
   "metadata": {},
   "source": [
    "**Fra her av er det ikke lenger pensum. Men fortsatt relevant for studiet deres generelt, og vi kommer tilbake i matte 3. Kan også være nyttig for enkelte prosjekter**\n",
    "\n",
    "## [Ikke Pensum] $f:\\mathbb{R }^3\\rightarrow\\mathbb{R } $\n",
    "\n",
    "Her kan vi bruke farger."
   ]
  },
  {
   "cell_type": "markdown",
   "id": "d173c804",
   "metadata": {},
   "source": [
    "## [Ikke Pensum] $f:\\mathbb{R }^n\\rightarrow\\mathbb{R }^n$\n",
    "\n",
    "En spesielle type funksjon $\\mathbb{R }^n\\rightarrow\\mathbb{R }^n$ er en\n",
    "vektorfelt, hvor formålet er å betrakte differensialligninger\n",
    "$\\dot{y} = f (y)$. $\\textit{Tenk på elektriske felter, eller\n",
    "vann/vind-strømminger.}$ Vi kan plotte piler, sånn:\n"
   ]
  },
  {
   "cell_type": "code",
   "execution_count": null,
   "id": "9ab52471",
   "metadata": {},
   "outputs": [],
   "source": [
    "x = np.linspace(-4, 4, 6)\n",
    "y = np.linspace(-4, 4, 6)\n",
    "X, Y = np.meshgrid(x, y)\n",
    "U = X + Y\n",
    "V = Y - X\n",
    "\n",
    "# plot\n",
    "fig, (ax1, ax2) = plt.subplots(1,2, figsize=(20,10))\n",
    "\n",
    "ax1.quiver(X, Y, U, V, color=\"C0\", angles='xy',\n",
    "          scale_units='xy', scale=5, width=.015)\n",
    "\n",
    "ax1.set(xlim=(-5, 5), ylim=(-5, 5))\n",
    "\n",
    "ax2.streamplot(X,Y, U, V)\n",
    "\n",
    "plt.show()"
   ]
  },
  {
   "cell_type": "markdown",
   "id": "ee51c004",
   "metadata": {},
   "source": [
    "Eller i tre dimensjoner:"
   ]
  },
  {
   "cell_type": "code",
   "execution_count": null,
   "id": "e7452fcc",
   "metadata": {},
   "outputs": [],
   "source": [
    "fig, ax = plt.subplots(figsize=(10,20), subplot_kw ={\"projection\":\"3d\"})\n",
    "\n",
    "# Make the grid\n",
    "x, y, z = np.meshgrid(np.arange(-0.8, 1, 0.2),\n",
    "                      np.arange(-0.8, 1, 0.2),\n",
    "                      np.arange(-0.8, 1, 0.8))\n",
    "\n",
    "# Make the direction data for the arrows\n",
    "u = np.sin(np.pi * x) * np.cos(np.pi * y) * np.cos(np.pi * z)\n",
    "v = -np.cos(np.pi * x) * np.sin(np.pi * y) * np.cos(np.pi * z)\n",
    "w = (np.sqrt(2.0 / 3.0) * np.cos(np.pi * x) * np.cos(np.pi * y) *\n",
    "     np.sin(np.pi * z))\n",
    "\n",
    "ax.quiver(x, y, z, u, v, w, length=0.1, normalize=True)\n",
    "\n",
    "plt.show()"
   ]
  },
  {
   "cell_type": "markdown",
   "id": "31582042",
   "metadata": {},
   "source": [
    "## $\\mathbb{R }^n{\\times}\\mathbb{R}{\\rightarrow}\\mathbb{R }^m$\n",
    "\n",
    "Når en av variablene er tid, kan det være hensiktsmessig å\n",
    "kombinere noen av de tidligere eksempler med en animasjon:"
   ]
  },
  {
   "cell_type": "code",
   "execution_count": null,
   "id": "0edb77fc",
   "metadata": {},
   "outputs": [],
   "source": [
    "import matplotlib.animation as animation\n",
    "\n",
    "fig, ax = plt.subplots()\n",
    "\n",
    "x = np.arange(0, 2*np.pi, 0.01)\n",
    "line, = ax.plot(x, np.sin(x))\n",
    "\n",
    "\n",
    "def animate(i):\n",
    "    line.set_ydata(np.sin(x + i / 50))  # update the data.\n",
    "    return line,\n",
    "\n",
    "\n",
    "ani = animation.FuncAnimation(\n",
    "    fig, animate, interval=20, blit=True, save_count=50)\n",
    "\n",
    "from IPython.display import HTML\n",
    "HTML(ani.to_jshtml())"
   ]
  },
  {
   "cell_type": "code",
   "execution_count": null,
   "id": "dcad884c",
   "metadata": {},
   "outputs": [],
   "source": [
    "fig, ax = plt.subplots()\n",
    "\n",
    "\n",
    "def f(x, y):\n",
    "    return np.sin(x) + np.cos(y)\n",
    "\n",
    "x = np.linspace(0, 2 * np.pi, 120)\n",
    "y = np.linspace(0, 2 * np.pi, 100).reshape(-1, 1)\n",
    "\n",
    "# ims is a list of lists, each row is a list of artists to draw in the\n",
    "# current frame; here we are just animating one artist, the image, in\n",
    "# each frame\n",
    "ims = []\n",
    "for i in range(60):\n",
    "    x += np.pi / 15\n",
    "    y += np.pi / 30\n",
    "    im = ax.imshow(f(x, y), animated=True)\n",
    "    if i == 0:\n",
    "        ax.imshow(f(x, y))  # show an initial one first\n",
    "    ims.append([im])\n",
    "\n",
    "ani = animation.ArtistAnimation(fig, ims, interval=50, blit=True,\n",
    "                                repeat_delay=1000)\n",
    "\n",
    "HTML(ani.to_jshtml())"
   ]
  }
 ],
 "metadata": {
  "kernelspec": {
   "display_name": "Python 3 (ipykernel)",
   "language": "python",
   "name": "python3"
  },
  "language_info": {
   "codemirror_mode": {
    "name": "ipython",
    "version": 3
   },
   "file_extension": ".py",
   "mimetype": "text/x-python",
   "name": "python",
   "nbconvert_exporter": "python",
   "pygments_lexer": "ipython3",
   "version": "3.11.4"
  }
 },
 "nbformat": 4,
 "nbformat_minor": 5
}
