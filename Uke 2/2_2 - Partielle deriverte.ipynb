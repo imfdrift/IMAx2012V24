{
 "cells": [
  {
   "cell_type": "markdown",
   "id": "25c8dd7d",
   "metadata": {},
   "source": [
    "# De partiellderiverte\n",
    "\n",
    "Det viser seg at det er lettest å jobbe med retningsderiverte langs aksene. De heter _partiellderiverte_. Vi forkuserer på beregninger og tolkninger av de partiellederiverte. I arket *2_3 - Gradient og retningsderverte*, skal vi bruke de partiellderiverte til å finne andre generelle retningsderiverte på en enkel måte."
   ]
  },
  {
   "cell_type": "markdown",
   "id": "27ea47b8",
   "metadata": {},
   "source": [
    "## Definisjon og grafisk tolkning\n",
    "\n",
    "La $f:\\mathbb{R}^2\\to \\mathbb{R}$ være en funksjon. \n",
    "Den partiellderiverte $\\frac{\\partial f}{\\partial x} (x, y)$ defineres som\n",
    "den deriverte av $f (x, y)$ når $y$ betraktes som konstant. Ekvivalent kan vi definere det som den retningsderiverte i punktet $(x,y)$ i retningen $\\vec{e_1}=(1,0)$. \n",
    "Likedan er $\\frac{\\partial f}{\\partial y}(x, y)$ den deriverte når $x$ betraktes som konstant. Den ekvivalente definisjonen i dette tilfellet er da at $\\frac{\\partial f}{\\partial y}(x, y)$ kan betraktes som den retningsderiverte i punktet $(x,y)$ i retningen $\\vec{e_2}=(0,1)$. \n",
    "\n",
    "Den geometriske tolkningen av $\\frac{\\partial f}{\\partial x} (x, y)$ er at dette er stigningstallet\n",
    "i et tverrsnitt som går langs $x$-aksen. Samme definisjon gjelder for  $\\frac{\\partial f}{\\partial y} (x, y)$, bare da langs $y$-aksen. La oss gjøre det hele mer konkret ved å gjøre noen eksempler."
   ]
  },
  {
   "cell_type": "markdown",
   "id": "e0767f65",
   "metadata": {},
   "source": [
    "## Eksempler\n",
    "\n",
    "### Eksempel 1\n",
    "\n",
    "Vi ønsker å finne de partiellderiverte av funksjonen $f:\\mathbb{R}^2\\to \\mathbb{R}$ definert som\n",
    "$f (x, y) = x y$. \n",
    "Som nevnt over, kan vi beregne de partiellderiverte akkurat som den ordinære deriverte,\n",
    "da vi holder de variablene som ikke skal deriveres konstant.\n",
    "\n",
    "Dermed er de partiellderiverte gitt ved\n",
    "$$\\frac{\\partial f}{\\partial x} (x, y)=\\frac{\\partial (xy)}{\\partial x}=y\\frac{\\partial x}{\\partial x}   = y$$ \n",
    "og \n",
    "$$\\frac{\\partial f}{\\partial xy} (x, y)=\\frac{\\partial (xy)}{\\partial y}=x\\frac{\\partial y}{\\partial y}   = x.$$ \n",
    "\n",
    "\n",
    "\n",
    "\n",
    "### Eksempel 2\n",
    "\n",
    "La oss denne gangen ta for oss de partiellderiverte av funksjonen\n",
    "$g (x, y) = x^3 y^2$. \n",
    "\n",
    "Da er de partiellderiverte gitt ved\n",
    "$$\\frac{\\partial g}{\\partial x} (x, y)=\\frac{\\partial (x^3 y^2)}{\\partial x} =y^2\\frac{\\partial x^3 }{\\partial x}  = 3 x^2 y^2$$\n",
    "og \n",
    "$$\\frac{\\partial g}{\\partial y} (x, y)=\\frac{\\partial (x^3 y^2)}{\\partial y} =x^3\\frac{\\partial y^2 }{\\partial y}  = 2 x^3 y.$$\n",
    "\n",
    "\n",
    "### Eksempel 3\n",
    "Siste eksempel vi kommer til å gå igjenom er \n",
    "$h(x,y) = \\sin(xy).$ Vi beregner ved å bruke kjerneregelen at\n",
    "$$\\frac{\\partial h}{\\partial x}(x,y) =\\frac{\\partial \\sin(xy)}{\\partial x}= y\\cos(xy).$$\n",
    "En lignende beregning gir oss at\n",
    "$$\\frac{\\partial h}{\\partial y}(x,y)=\\frac{\\partial \\sin(xy)}{\\partial y} = x\\cos(xy).$$"
   ]
  }
 ],
 "metadata": {
  "kernelspec": {
   "display_name": "Python 3 (ipykernel)",
   "language": "python",
   "name": "python3"
  },
  "language_info": {
   "codemirror_mode": {
    "name": "ipython",
    "version": 3
   },
   "file_extension": ".py",
   "mimetype": "text/x-python",
   "name": "python",
   "nbconvert_exporter": "python",
   "pygments_lexer": "ipython3",
   "version": "3.11.4"
  }
 },
 "nbformat": 4,
 "nbformat_minor": 5
}
