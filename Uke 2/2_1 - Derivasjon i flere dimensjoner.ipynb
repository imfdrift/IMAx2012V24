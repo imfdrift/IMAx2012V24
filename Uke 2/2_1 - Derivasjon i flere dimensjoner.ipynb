{
 "cells": [
  {
   "cell_type": "markdown",
   "id": "f220f44d",
   "metadata": {},
   "source": [
    "# Derivasjon\n",
    "\n",
    "Vi begynner kalkulus for funksjoner av flere variabler med derivasjon.\n",
    "\n",
    "1. Retningsderiverte (innføring)\n",
    "2. De partiell deriverte\n",
    "3. Retningsderiverte II og gradient\n",
    "4. Kjerneregel [ikke pensum]\n",
    "5. Den andre deriverte\n",
    "\n",
    "**Læringsmål:**\n",
    "\n",
    "- Beregne de partiell deriverte og forstå deres betydning\n",
    "- Beregne retningsderiverte og gradient\n",
    "- Beregne den andre deriverte"
   ]
  },
  {
   "cell_type": "code",
   "execution_count": null,
   "id": "342af18e",
   "metadata": {},
   "outputs": [],
   "source": [
    "# Kjør denne cellen for å importere viktige python pakker!\n",
    "import matplotlib.pyplot as plt # Pakke brukt til plotting\n",
    "import numpy as np # Pakke brukt til numeriske beregninger"
   ]
  },
  {
   "cell_type": "markdown",
   "id": "34deafff",
   "metadata": {},
   "source": [
    "## Retningsderiverte\n",
    "\n",
    "La oss begynne med en funksjon $f:\\mathbb{R}^2\\rightarrow\\mathbb{R}. $ Vi\n",
    "er vant til å tenke på den deriverte som en vekstrate/stigningstall.\n",
    "Hva vil det i så fall være i to dimensjoner? Står vi på en\n",
    "fjellside, er det klart at hvor bratt terrenget er avhengig av hvilken\n",
    "retning vi går i. Vi vil se at det samme gjelder her. Dermed må vi oppgi en retning for å snakke om den deriverte i flere dimensjoner. Om vi skriver dette formelt får vi dermed:\n",
    "\n",
    "$$\n",
    "\\frac{\\partial f}{\\partial \\vec{n}}(\\vec{x}) = \\left.\\frac{d}{dt}f(\\vec{x} + t\\vec{n})\\right|_{t=0} =  \\lim_{t\\rightarrow 0} \\frac{f(\\vec{x}+t\\vec{n}) - f(\\vec{x})}{t}.\n",
    "$$\n",
    "\n",
    "Vi kommer til å betegne $\\frac{\\partial f}{\\partial \\vec{n}}(\\vec{x})$ som den retningsderiverte av $f$ i punktet $\\vec{x}$ i retning $\\vec{n}$."
   ]
  },
  {
   "cell_type": "markdown",
   "id": "47a33a7a",
   "metadata": {},
   "source": [
    "## Eksempel\n",
    "\n",
    "La oss se hvordan det funker for $f(x,y)=\\sin(xy)$.\n",
    "\n",
    "La $\\vec{n}$ være retningen $\\vec{n} = \\frac{1}{\\sqrt{2}}(1,-1)$ og la $\\vec{x}$ være punktet\n",
    " $\\vec{x} = (2,-1)$. Da er\n",
    "$$\n",
    "\\vec{x} + t\\vec{n} = \\begin{pmatrix}\n",
    "2 + \\frac{1}{\\sqrt{2}}t \\\\\n",
    "-1  -\\frac{1}{\\sqrt{2}}t\n",
    "\\end{pmatrix},\n",
    "$$\n",
    "\n",
    "og\n",
    "\n",
    "$$\n",
    "f(\\vec{x}+t\\vec{n}) = \\sin\\left(\\left(2 + \\frac{1}{\\sqrt{2}}t \\right)\\left(-1  -\\frac{1}{\\sqrt{2}}t\\right)\\right) = \\sin\\left(-2-\\frac{3}{\\sqrt{2}}t-t^2/2\\right).\n",
    "$$\n",
    "\n",
    "Da kan vi beregne den deriverte av $f(\\vec{x}+t\\vec{n})$ med hensyn på $t$ og ved å bruke kjerneregelen får vi\n",
    "\n",
    "$$\n",
    "\\frac{df}{dt} = (-t-3/\\sqrt{2})\\cos\\left(-2-\\frac{3}{\\sqrt{2}}t-t^2/2\\right).\n",
    "$$\n",
    "\n",
    "Setter vi inn for $t=0$ får vi at den retningsderiverte er \n",
    "\n",
    "$$\n",
    "\\left.\\frac{d}{dt}f(\\vec{x} + t\\vec{n})\\right|_{t=0} = -\\frac{3}{\\sqrt{2}}\\cos\\left(-2\\right)=-\\frac{3}{\\sqrt{2}}\\cos\\left(2\\right)\\approx 0.8828.\n",
    "$$\n",
    "\n",
    "Vi viser funksjonene $f(x,y)$ og $f(\\vec{x}+t\\vec{n})$ i koden under:"
   ]
  },
  {
   "cell_type": "code",
   "execution_count": null,
   "id": "0217d52c",
   "metadata": {},
   "outputs": [],
   "source": [
    "# Bestem størelsen til plottet og at det skal være i 3D\n",
    "fig, ax = plt.subplots(figsize=(8, 8), subplot_kw={\"projection\": \"3d\"})\n",
    "\n",
    "# Lag et \"rutenett\" med 100x100 punkter i rektangelet [-3, 3] x [-3, 3]\n",
    "x, y = np.meshgrid(np.linspace(-3, 3, 100), np.linspace(-3, 3, 100))\n",
    "\n",
    "# Finn funksjonsverdiene for disse verdiene\n",
    "z = np.sin(x * y)\n",
    "\n",
    "# Plot overflaten\n",
    "ax.plot_surface(x, y, z)"
   ]
  },
  {
   "cell_type": "code",
   "execution_count": null,
   "id": "ffb65f38",
   "metadata": {},
   "outputs": [],
   "source": [
    "# Lag 100 punkter mellom -3 og 3\n",
    "t = np.linspace(-3,3,100)\n",
    "\n",
    "# Lag funksjonsverdiene for f(x+tn)\n",
    "z2 = np.sin(-2 - 3*t/np.sqrt(2) - t**2/2)\n",
    "\n",
    "# Plot funksjonen\n",
    "plt.plot(t, z2)"
   ]
  },
  {
   "cell_type": "markdown",
   "id": "1b79e21f",
   "metadata": {},
   "source": [
    "Som vi ser i grafen, ser stigningstallet i punktet $t=0$ ut til å være circa lik\n",
    "$\n",
    "\\left.\\frac{d}{dt}f(\\vec{x} + t\\vec{n})\\right|_{t=0} \\approx 0.8828.\n",
    "$\n",
    "\n",
    "\n",
    "På dette tidspunktet, om vi ønsker finne den retningsderiverte i en annen retning og et annet punkt må vi gå igjennom hele prossesen på nytt. Heldigvis finnes det en lettere og mer opplysende måte å beregne retningsderiverte enn metoden viste over. Dette kommer vi til å lære om i seksjon 2_3.\n",
    "\n",
    "### Oppgave:\n",
    "\n",
    "1. Finn den retningsderiverte til funksjonen $f$ i punktet $\\vec{x}=(0,1)$ i retningen $\\vec{n}=(1,0)$.\n",
    "2. Modifiser koden over til å plotte funksjonen langs denne retningen. Stemmer svarene dine overens?\n",
    "3. I vårt eksempel har vi tatt $\\vec{n}$ til å være en *enhetsvektor*, dvs $||\\vec{n}||=1$. Hva skjer hvis vi velger en vektor med en annen størrelse? For eksempel om $\\vec{n}=(3,0)$?"
   ]
  },
  {
   "cell_type": "code",
   "execution_count": null,
   "id": "3c783ef4",
   "metadata": {},
   "outputs": [],
   "source": []
  }
 ],
 "metadata": {
  "kernelspec": {
   "display_name": "Python 3",
   "language": "python",
   "name": "python3"
  },
  "language_info": {
   "codemirror_mode": {
    "name": "ipython",
    "version": 3
   },
   "file_extension": ".py",
   "mimetype": "text/x-python",
   "name": "python",
   "nbconvert_exporter": "python",
   "pygments_lexer": "ipython3",
   "version": "3.8.8"
  }
 },
 "nbformat": 4,
 "nbformat_minor": 5
}
