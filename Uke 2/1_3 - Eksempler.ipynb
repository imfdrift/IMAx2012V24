{
 "cells": [
  {
   "cell_type": "markdown",
   "id": "7c8603a4",
   "metadata": {},
   "source": [
    "# Eksempler\n",
    "\n",
    "Her følger noen programrelevante eksempler av funksjoner. Som du kan se er flerdimensjonale funksjoner svært nyttige!\n",
    "\n",
    "*Listen oppdateres!*"
   ]
  },
  {
   "cell_type": "markdown",
   "id": "7d05eb0a",
   "metadata": {},
   "source": [
    "## Mekanikk\n",
    "\n",
    "Det er ofte slik at viktige fysiske størrelser som kraft, moment, tetthet og temperatur varierer over en konstruksjon. Kraft og moment blir ofte representert som vektorer, og vi kan se på et kraftfelt $F: \\mathbb{R}^3\\rightarrow\\mathbb{R}^3$ som en funksjon av posisjon. Det samme er tilfellet for moment. Siden tetthet er skalar kan vi representere tettheten $\\rho$ til en posisjon i rommet som en funksjon $\\rho:\\mathbb{R}^3\\rightarrow\\mathbb{R}$. Det samme gjelder andre for eksempel temperatur. \n",
    "\n",
    "Men vi er også vant til planesystemer, eller til og med linjer, hvor pga. symmetrier vi ignorerer avhengighet i en retning. Da kunne heller se på kraft som en funksjon $F:\\mathbb{R}^2\\rightarrow\\mathbb{R}^2$. Dette er en forenkling som ofte blir gjort på jordas overflate, om vi ignorerer høyden. Slik som for vind og havstrømmer.\n",
    "\n",
    "Hva med spenning? Den er generelt avhengig av både posisjon $\\vec{x}$ og et tverrsnitt (det er nok å oppgi bare en normalvektor $\\vec{n}$), og er en vektor selv. Den er også en funksjon $\\tau(\\vec{x},\\vec{n}):\\mathbb{R}^3 \\times \\mathbb{R}^3 \\rightarrow \\mathbb{R}^3$, men det er ikke hele historien. Hvis vi tar en vilkårlig $\\vec{x}$ og holder den konstant er funksjonen $\\tau(\\vec{x},\\vec{n}):\\mathbb{R}^3\\rightarrow\\mathbb{R}$ en lineær transformasjon, og kan dermed skrives som en matrise! Enda bedre viser det seg (se Bell, Konstruksjonsmekanikk, II.9) at matrisa er symmetrisk! Dermed er det trolig best å tenke på spenning som en funksjon $\\mathbb{R}^3\\rightarrow Y$, hvor $Y$ er rommet av $3\\times 3$ symmetriske matriser. \n",
    "\n",
    "Tøyning er en annen funksjon av samme type (se Bell, Konstruksjonsmekanikk, II.10). Det finnes i tillegg flere varianter av funksjoner til enda rare funksjonsrom som benyttes i analyse av bjelker. Vi skal ikke innom slik."
   ]
  },
  {
   "cell_type": "markdown",
   "id": "d579e8c4",
   "metadata": {},
   "source": [
    "## Elektrofag\n",
    "\n",
    "Grunnleggende elektrolære er ganske tungt på vektorfelter $\\mathbb{R}^3\\rightarrow\\mathbb{R}^3$, slik er elektriske og magnetiske felter. Man finner også strømtetthet, elektrisk forskyvning/polarisering og magnetisering, som er også vektorfelter. Ladingstetthet og elektrisk potensial er eksempler på skalare funksjoner $\\mathbb{R}^3\\rightarrow\\mathbb{R}$. \n",
    "\n",
    "I mange tilfeller er de overnevnte avhengige av tid i tillegg, dvs av formen $\\mathbb{R}^3 \\times \\mathbb{R}\\rightarrow \\mathbb{R}^3$. Vi kan også skrive $\\mathbb{R}^4 \\rightarrow \\mathbb{R}^3$ men det er ikke så nyttig. Men... i den vakre relativistisk tolkning av elektromagnetisme er et elektromagnetisk felt en funksjon $\\mathbb{R}^4\\rightarrow Y$, hvor $Y$ er det 6-dimensjonale vektorrommet av antisymmetrisk $4\\times 4$ matriser! Oppdeling i elektriske- og magnetiske felter er altså kun relativt, og varierer mellom forskjellige observatorer. \n",
    "\n",
    "Overgangen fra feltteori til praktiske kretser er ganske tung, men om du klarer å komme gjennom det notatet vil du være et godt stykke på vei! Noen kjennskap til denne teorien er i tillegg viktig for å forstå kretser som strekker seg veldig langt (f.eks. strømkabler) eller hvor magnetiske effekter blir viktig (f.eks. motorer). Men ofte slipper man unna med den type analyse man kjenner fra emnene elektriske kretser. \n",
    "\n",
    "Da er vi mest opptatt av forhold mellom forskjellige variabler (se \"Avhengige og uavhengige variabler\"), f.eks. Ohms lov, hvor $V=IR$ beskriver en funksjon $V:\\mathbb{R}^2 \\rightarrow \\mathbb{R}$. I analyse av vekselstrøm er det forresten vanlig å utvide til komplekse tall, slik at $V:\\mathbb{C}^2 \\rightarrow \\mathbb{C}$. Dette notatet fokuserer seg i hovedsak på reelle tall, men se 15.1 for litt om komplekse funksjoner. Det kan hende det blir flere variabler i bilde, som temperatur. Er motstand avhengig av temperatur får vi $V=R(T)I$, slik at $V:\\mathbb{R}^3\\rightarrow\\mathbb{R}$."
   ]
  },
  {
   "cell_type": "markdown",
   "id": "501d0013",
   "metadata": {},
   "source": [
    "## Data\n",
    "\n",
    "Funksjoner er overalt i datavitenskap. Vi kommer til å se flere eksempler i diskret matematikk, men også i bildebehandling og datavitenskap/maskinlæring er det mange interessante eksempler.\n",
    "\n",
    "Vi nevner at et bilde kan sees som en funksjon $b:\\mathbb{R}^2 \\mapsto \\mathbb{R}^3$, hvor vi oppgi en fargeverdi (i f.eks. tredimensjonalt RGB-rom) til hvert punkt $(x,y)$ i bildet. I praksis vil vi bare lagre verdier på endelig mange punkter $(x_i, y_i)$ - en *diskretisering* av funksjonen, slik vi kommer til å treffe i uke 6."
   ]
  },
  {
   "cell_type": "markdown",
   "id": "cc138ab6",
   "metadata": {},
   "source": [
    "## Kjemi og materialteknologi\n",
    "\n",
    "Materialteknologi interesserer seg i mange av de samme funksjoner som både mekanikk (spenning, tøyning osv.) og termodynamikk (temperatur, entropi, varmekapasitet osv.).\n",
    "\n",
    "I tillegg er *konsentrasjonen* av et stoff viktig. Det er typisk et reelt tall, og om den varierer med posisjon vil vi ha en funksjon $\\mathbb{R}^3 \\rightarrow \\mathbb{R}$.\n",
    "\n",
    "Et mer komplisert eksempel av en egenskapet til et material er sin *refleksjonsfaktor* (https://snl.no/refleksjonsfaktor). I en enkel tilnærming er det bare et skalartall, men mer generelt kan det være avhengig av både inn- og utvinklene, og muligens også bølgelengden (https://en.wikipedia.org/wiki/Bidirectional_reflectance_distribution_function). Om vi tar alt med får vi en funksjon $S^2 \\times S^2 \\times \\mathbb{R} \\rightarrow \\mathbb{R}$!"
   ]
  },
  {
   "cell_type": "markdown",
   "id": "7ad1ee7d",
   "metadata": {},
   "source": [
    "## Logistikk\n",
    "\n",
    "Tenk tilbake til forsyningskjeden! Vi fikk skalare funksjoner $f(t)$ når vi skulle spore lagerføring av en vare på en fabrikk gjennom tiden.\n",
    "\n",
    "Men hva skjer hvis vi vil spore varer over alle steder i systemet, inkludert over veger hvor posisjonen endrer seg kontinuerlig? Da ender vi opp med funksjoner av type $X \\times \\mathbb{R} \\rightarrow \\mathbb{R}$. Om $X$ er en enkel veg kommer vi til å ende opp med en funksjon $\\mathbb{R} \\times \\mathbb{R} \\rightarrow \\mathbb{R}$."
   ]
  },
  {
   "cell_type": "markdown",
   "id": "c01a16c5",
   "metadata": {},
   "source": [
    "## Geomatikk\n",
    "\n",
    "Geoiden er et klassisk eksempel av en funksjon $U: \\mathbb{R}^2 \\rightarrow \\mathbb{R}$. Variablene til denne funksjonen er breddegrader og lengdegrader.\n",
    "\n",
    "Funksjonen $U$ kommer fra en mer generell funksjon $\\mathbb{R}^3 \\rightarrow\\mathbb{R}$ som er tyngdekrafts-potensial som en funksjon av posisjon i rom. Geoiden er en nivåkurve til denne funksjonen. Dette er en noe forenkling siden bredde- og lengdegrader beskriver ellipsoide, som er en nivåkurve til en forenklet tyngdekraftpotensial."
   ]
  },
  {
   "cell_type": "markdown",
   "id": "d4b899c3",
   "metadata": {},
   "source": [
    "## Termodynamikk\n",
    "\n",
    "Termodynamikk er en viktig anvendelse av temaene i dette notatet. Mye av vanskelighetsgraden i termodynamikk ligger i manglende forståelse av kalkulus av flere variabler.\n",
    "\n",
    "En simple compressible system har sin tilstand beskrevet av to uavhengig variabler, typisk to av temperatur ($T$), trykk ($\\rho$) og volum ($V$). Da er alle termodynamisk variabler/funksjoner som varme, entropi, entalpi osv funksjoner $\\mathbb{R}^2 \\rightarrow \\mathbb{R}$. \n",
    "\n",
    "Visualisering har en lang historie i dette tilfelle. I læreboka \"Engineering thermodynamics\" ser man en 3d overflate med trykket til vann som en funksjon av volum og temperatur. Den skotske fysiker James Clerk Maxwell konstruert til og med en fysisk modell av noen lignende i gips, se [wikipedia](https://en.wikipedia.org/wiki/Maxwell's_thermodynamic_surface) for mer informasjon."
   ]
  },
  {
   "cell_type": "markdown",
   "id": "5c4bdb26",
   "metadata": {},
   "source": [
    "## Fysikk\n",
    "\n",
    "Eksemplene fra mekanikk og elektrofag er begge relevant i fysikk. \n",
    "\n",
    "I tillegg finnes det fluidmekanikk, som har noen fellestrekk med begge. Her er (det tidsavhengige) hastighetsfeltet $u:\\mathbb{R}^3\\times\\mathbb{R}\\rightarrow\\mathbb{R}^3$, samt trykket $p:\\mathbb{R}^3\\times\\mathbb{R}\\rightarrow\\mathbb{R}$ viktig. Om systemet er konstant i tid blir de heller henholdsvis $u:\\mathbb{R}^3\\rightarrow\\mathbb{R}^3$ og $p:\\mathbb{R}^3\\rightarrow\\mathbb{R}$.\n",
    "\n",
    "For å spore posisjon til en partikkel i strømmet, må man løse den differensialligningen\n",
    "\n",
    "$$\n",
    "\\dot{x}(t) = u\\big(x(t),t\\big).\n",
    "$$\n",
    "\n",
    "I motsetning til elektriske felter, finnes det ikke noen strømpotensial på ekte. Men noen forenklede modeller tillater en slik funksjon. Det er en stor hjelp når man skal trekke konklusjoner, men kan ofte føre til fysiske feil.\n",
    "\n",
    "Man har også spennings- og forflytningstensor akkurat som mekanikk."
   ]
  }
 ],
 "metadata": {
  "kernelspec": {
   "display_name": "Python 3 (ipykernel)",
   "language": "python",
   "name": "python3"
  },
  "language_info": {
   "codemirror_mode": {
    "name": "ipython",
    "version": 3
   },
   "file_extension": ".py",
   "mimetype": "text/x-python",
   "name": "python",
   "nbconvert_exporter": "python",
   "pygments_lexer": "ipython3",
   "version": "3.11.4"
  }
 },
 "nbformat": 4,
 "nbformat_minor": 5
}
